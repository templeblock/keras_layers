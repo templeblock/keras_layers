{
 "cells": [
  {
   "cell_type": "code",
   "execution_count": 1,
   "metadata": {},
   "outputs": [],
   "source": [
    "import numpy as np\n",
    "import matplotlib.pyplot as plt\n",
    "import cv2\n",
    "import os\n",
    "\n",
    "import tensorflow as tf\n",
    "import tensorflow.contrib.eager as tfe\n",
    "\n",
    "os.environ[\"CUDA_VISIBLE_DEVICES\"] = '-1'\n",
    "tfe.enable_eager_execution()\n",
    "\n",
    "from tensorflow.keras.layers import Input, BatchNormalization, Conv2D\n",
    "from tensorflow.keras.models import Model\n",
    "\n",
    "from layers import SparseConv2D"
   ]
  },
  {
   "cell_type": "code",
   "execution_count": 2,
   "metadata": {},
   "outputs": [
    {
     "name": "stdout",
     "output_type": "stream",
     "text": [
      "261\n",
      "input_shapes    (1, 32, 32, 3) (1, 32, 32, 1)\n",
      "output_shapes   (1, 30, 30, 32) (1, 30, 30, 1)\n",
      "input_sparsity  0.9000\n",
      "output_sparsity 0.1578\n"
     ]
    }
   ],
   "source": [
    "input_shape = (32, 32, 3)\n",
    "input_sparsity = 0.9\n",
    "binary = False\n",
    "\n",
    "mask_shape = list(input_shape[:-1]) + [1]\n",
    "\n",
    "input_images = np.asarray([np.random.random(input_shape)])\n",
    "#input_images = np.asarray([np.ones(input_shape)*0.5])\n",
    "input_masks = np.asarray([np.random.binomial(1, 1-input_sparsity, size=mask_shape)])\n",
    "\n",
    "if True: # without mask\n",
    "    input_images *= np.repeat(input_masks, input_images.shape[-1], axis=-1)\n",
    "    \n",
    "    inputs = x = Input(shape=input_shape)\n",
    "    x = SparseConv2D(16, 3, padding='same', binary=binary)(x)\n",
    "    x = SparseConv2D(32, 3, padding='valid', binary=binary)(x)\n",
    "    model = Model(inputs, x)\n",
    "\n",
    "    output_features, output_masks = model.predict(input_images)\n",
    "else:\n",
    "    inputs = x = [Input(shape=input_shape), Input(shape=mask_shape)]\n",
    "    x = SparseConv2D(16, 3, padding='same', binary=binary)(x)\n",
    "    x = SparseConv2D(32, 3, padding='valid', binary=binary)(x)\n",
    "    model = Model(inputs, x)\n",
    "\n",
    "    output_features, output_masks = model.predict([input_images, input_masks])\n",
    "                          \n",
    "print(np.count_nonzero(input_images))\n",
    "\n",
    "print('input_shapes    %s %s' % (input_images.shape, input_masks.shape))\n",
    "print('output_shapes   %s %s' % (output_features.shape, output_masks.shape))\n",
    "print('input_sparsity  %.4f' % (input_sparsity))\n",
    "print('output_sparsity %.4f' % (1-np.count_nonzero(output_masks)/np.prod(output_masks.shape)))"
   ]
  },
  {
   "cell_type": "code",
   "execution_count": 3,
   "metadata": {},
   "outputs": [
    {
     "data": {
      "image/png": "[encoded data removed]",
      "text/plain": [
       "<Figure size 1152x288 with 4 Axes>"
      ]
     },
     "metadata": {},
     "output_type": "display_data"
    }
   ],
   "source": [
    "input_sparsity = 0.95\n",
    "binary = False\n",
    "\n",
    "input_images = np.asarray([np.random.random(input_shape)])\n",
    "input_masks = np.asarray([np.random.binomial(1, 1-input_sparsity, size=mask_shape)])\n",
    "input_images *= np.repeat(input_masks, input_images.shape[-1], axis=-1)\n",
    "\n",
    "inputs = x = Input(shape=input_shape)\n",
    "x, m = SparseConv2D(16, 3, padding='same', bias_initializer='glorot_uniform', binary=binary)(x)\n",
    "x = BatchNormalization(center=False, scale=False,\n",
    "        moving_mean_initializer='glorot_uniform', \n",
    "        moving_variance_initializer='glorot_uniform'\n",
    "    )(x)\n",
    "x = SparseConv2D(32, 3, padding='valid', binary=binary)([x,m])\n",
    "model = Model(inputs, x)\n",
    "#output_features, output_masks = model.predict(input_images)\n",
    "\n",
    "output_features, output_masks = Model(model.input, model.layers[3].output)(input_images.astype('float32'))\n",
    "\n",
    "plt.figure(figsize=[16,4])\n",
    "opts = {'cmap': 'gray', 'vmin': 0, 'vmax': 1}\n",
    "plt.subplot(141)\n",
    "plt.title('input mask')\n",
    "plt.imshow(input_masks[0,:,:,0], **opts)\n",
    "plt.subplot(142)\n",
    "plt.title('sparsity in input')\n",
    "plt.imshow(np.asarray(np.sum(input_images[0], axis=-1)!=0, dtype='float32'), **opts)\n",
    "plt.subplot(143)\n",
    "plt.title('output mask')\n",
    "plt.imshow(output_masks[0,:,:,0], **opts)\n",
    "plt.subplot(144)\n",
    "plt.title('sparsity in output')\n",
    "plt.imshow(np.asarray(np.sum(output_features[0].numpy(), axis=-1)!=0, dtype='float32'), **opts)\n",
    "plt.show()"
   ]
  },
  {
   "cell_type": "code",
   "execution_count": 4,
   "metadata": {},
   "outputs": [
    {
     "data": {
      "image/png": "[encoded data removed]",
      "text/plain": [
       "<Figure size 1152x288 with 4 Axes>"
      ]
     },
     "metadata": {},
     "output_type": "display_data"
    },
    {
     "data": {
      "text/plain": [
       "(1.001, 823.02, 2.6967793)"
      ]
     },
     "execution_count": 4,
     "metadata": {},
     "output_type": "execute_result"
    }
   ],
   "source": [
    "input_sparsity = 0.75\n",
    "binary = False\n",
    "\n",
    "input_masks = np.asarray([np.random.binomial(1, 1-input_sparsity, size=mask_shape)])\n",
    "input_images = np.asarray([np.random.random(input_shape)]) # random\n",
    "input_images = np.repeat(np.repeat(np.sin(np.arange(32)/32*4*np.pi)[:,None], 32, axis=-1)[None,:,:,None], 3, axis=-1) # sin\n",
    "#input_images = np.repeat(np.repeat(np.repeat([[0.,1.],[1.,0.]], 16, axis=0), 16, axis=1)[None,:,:,None], 3, axis=-1) # blocks\n",
    "input_images += 0.001\n",
    "#input_images = np.repeat(input_masks, 3, axis=-1) # mask\n",
    "input_images *= np.repeat(input_masks, input_images.shape[-1], axis=-1)\n",
    "input_images = np.asarray(input_images, dtype='float32')\n",
    "\n",
    "inputs = x = Input(shape=input_shape)\n",
    "x = Conv2D(1, 3, padding='same', bias_initializer='zeros', kernel_initializer='ones')(x)\n",
    "x = Conv2D(1, 3, padding='valid', bias_initializer='zeros', kernel_initializer='ones')(x)\n",
    "x = Conv2D(1, 3, padding='valid', bias_initializer='zeros', kernel_initializer='ones')(x)\n",
    "model = Model(inputs, x)\n",
    "\n",
    "output_features_conv = Model(model.input, model.layers[-1].output)(input_images)\n",
    "output_features_conv = output_features_conv.numpy()\n",
    "\n",
    "inputs = x = Input(shape=input_shape)\n",
    "x = SparseConv2D(1, 3, padding='same', bias_initializer='zeros', kernel_initializer='ones', binary=binary)(x)\n",
    "x = SparseConv2D(1, 3, padding='valid', bias_initializer='zeros', kernel_initializer='ones', binary=binary)(x)\n",
    "x = SparseConv2D(1, 3, padding='valid', bias_initializer='zeros', kernel_initializer='ones', binary=binary)(x)\n",
    "model = Model(inputs, x)\n",
    "\n",
    "output_features_sparseconv, output_masks = Model(model.input, model.layers[-1].output)(input_images)\n",
    "output_features_sparseconv = output_features_sparseconv.numpy()\n",
    "\n",
    "plt.figure(figsize=[16,4])\n",
    "opts = {'cmap': 'gray', 'vmin': 0, 'vmax': 1}\n",
    "plt.subplot(141)\n",
    "plt.title('mask')\n",
    "plt.imshow(input_masks[0,:,:,0], **opts)\n",
    "plt.subplot(142)\n",
    "plt.title('input')\n",
    "v = np.asarray(np.sum(input_images[0], axis=-1), dtype='float32')\n",
    "plt.imshow(v/np.max(v), **opts)\n",
    "plt.subplot(143)\n",
    "plt.title('conv output')\n",
    "v = np.asarray(np.sum(output_features_conv[0], axis=-1), dtype='float32')\n",
    "plt.imshow(v/np.max(v), **opts)\n",
    "plt.subplot(144)\n",
    "plt.title('sprse conv output')\n",
    "v = np.asarray(np.sum(output_features_sparseconv[0], axis=-1), dtype='float32')\n",
    "plt.imshow(v/np.max(v), **opts)\n",
    "plt.show()\n",
    "\n",
    "np.max(input_images), np.max(output_features_conv), np.max(output_features_sparseconv)"
   ]
  },
  {
   "cell_type": "code",
   "execution_count": 5,
   "metadata": {},
   "outputs": [
    {
     "name": "stdout",
     "output_type": "stream",
     "text": [
      "0.2404608 0.006132003\n"
     ]
    },
    {
     "data": {
      "image/png": "[encoded data removed]",
      "text/plain": [
       "<Figure size 288x288 with 1 Axes>"
      ]
     },
     "metadata": {},
     "output_type": "display_data"
    }
   ],
   "source": [
    "om = output_masks.numpy()\n",
    "print(np.mean(om), np.var(om))\n",
    "\n",
    "plt.figure(figsize=[4,4])\n",
    "plt.imshow(om[0,:,:,0])\n",
    "plt.show()"
   ]
  },
  {
   "cell_type": "code",
   "execution_count": null,
   "metadata": {},
   "outputs": [],
   "source": []
  }
 ],
 "metadata": {
  "kernelspec": {
   "display_name": "Python 3",
   "language": "python",
   "name": "python3"
  },
  "language_info": {
   "codemirror_mode": {
    "name": "ipython",
    "version": 3
   },
   "file_extension": ".py",
   "mimetype": "text/x-python",
   "name": "python",
   "nbconvert_exporter": "python",
   "pygments_lexer": "ipython3",
   "version": "3.5.2"
  }
 },
 "nbformat": 4,
 "nbformat_minor": 2
}
