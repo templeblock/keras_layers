{
 "cells": [
  {
   "cell_type": "code",
   "execution_count": null,
   "metadata": {},
   "outputs": [],
   "source": [
    "import numpy as np\n",
    "import matplotlib.pyplot as plt\n",
    "import tensorflow as tf\n",
    "import os\n",
    "\n",
    "os.environ[\"CUDA_VISIBLE_DEVICES\"] = '-1'\n",
    "np.set_printoptions(linewidth=110, precision=4)\n",
    "\n",
    "from tensorflow.keras.layers import Input, Conv2D, Activation\n",
    "from tensorflow.keras.models import Model"
   ]
  },
  {
   "cell_type": "markdown",
   "metadata": {},
   "source": [
    "### SparseConv2D\n",
    "\n",
    "see [sparseconvolution.ipynb](sparseconvolution.ipynb)"
   ]
  },
  {
   "cell_type": "markdown",
   "metadata": {},
   "source": [
    "### MaxPoolingWithArgmax2D and MaxUnpooling2D"
   ]
  },
  {
   "cell_type": "code",
   "execution_count": null,
   "metadata": {},
   "outputs": [],
   "source": [
    "from layers import MaxPoolingWithArgmax2D, MaxUnpooling2D\n",
    "\n",
    "size = 2\n",
    "x = x_in = Input(shape=(32, 32, 10))\n",
    "x, m = MaxPoolingWithArgmax2D(pool_size=size)(x)\n",
    "x_p = x\n",
    "x = MaxUnpooling2D(size=size)([x,m])\n",
    "model = Model(x_in, [x,m,x_p])\n",
    "\n",
    "print(model.input_shape)\n",
    "print(model.output_shape)\n",
    "\n",
    "batch = np.random.rand(4,32,32,10).astype('float32')\n",
    "\n",
    "preds = model.predict(batch)\n",
    "print([e.shape for e in preds])\n",
    "\n",
    "for i in [0]:\n",
    "    print()\n",
    "    print(batch[0][:size,:size,i])\n",
    "    print(preds[2][0][0,0,i], int(preds[1][0][0,0,i]))\n",
    "    print(preds[0][0][:size,:size,i])\n",
    "    \n",
    "plt.figure(figsize=(16,4))\n",
    "plt.subplot(141); plt.title('input')\n",
    "plt.imshow(batch[0,:,:,0])\n",
    "plt.subplot(142); plt.title('maxpooling')\n",
    "plt.imshow(preds[2][0,:,:,0])\n",
    "plt.subplot(143); plt.title('indices')\n",
    "plt.imshow(preds[1][0,:,:,0])\n",
    "plt.subplot(144); plt.title('unpooling')\n",
    "plt.imshow(preds[0][0,:,:,0])\n",
    "plt.show()"
   ]
  },
  {
   "cell_type": "markdown",
   "metadata": {},
   "source": [
    "### AddCoord2D"
   ]
  },
  {
   "cell_type": "code",
   "execution_count": null,
   "metadata": {},
   "outputs": [],
   "source": [
    "from layers import AddCoords2D\n",
    "\n",
    "x = x_in = Input(shape=(28, 28, 3))\n",
    "x = AddCoords2D()(x)\n",
    "model = Model(x_in, x)\n",
    "\n",
    "print(model.input_shape)\n",
    "print(model.output_shape)\n",
    "\n",
    "batch = np.random.rand(4,28,28,3).astype('float32')\n",
    "\n",
    "preds = model.predict(batch)\n",
    "print(preds[0][0,:,:])"
   ]
  },
  {
   "cell_type": "markdown",
   "metadata": {},
   "source": [
    "### DepthwiseConv2D"
   ]
  },
  {
   "cell_type": "code",
   "execution_count": null,
   "metadata": {},
   "outputs": [],
   "source": [
    "from layers import DepthwiseConv2D\n",
    "\n",
    "cm = 2 # channel_multiplier\n",
    "\n",
    "x = x_in = Input(shape=(28, 28, 3))\n",
    "x = Conv2D(16, (3,3), padding='same')(x)\n",
    "x = DepthwiseConv2D(cm, (3,3), padding='same')(x)\n",
    "x = Conv2D(16*cm, (1,1), padding='same')(x)\n",
    "model = Model(x_in, x)\n",
    "\n",
    "print(model.input_shape)\n",
    "print(model.output_shape)\n",
    "\n",
    "batch = np.random.rand(4,28,28,3).astype('float32')\n",
    "\n",
    "preds = model.predict(batch)\n",
    "print(preds[0][0,0,:])"
   ]
  },
  {
   "cell_type": "markdown",
   "metadata": {},
   "source": [
    "### LayerNormalization"
   ]
  },
  {
   "cell_type": "code",
   "execution_count": null,
   "metadata": {
    "scrolled": false
   },
   "outputs": [],
   "source": [
    "from layers import LayerNormalization\n",
    "\n",
    "x = x_in = Input(shape=(28, 28, 3))\n",
    "x = LayerNormalization()(x)\n",
    "model = Model(x_in, x)\n",
    "\n",
    "print(model.input_shape)\n",
    "print(model.output_shape)\n",
    "\n",
    "batch = np.random.rand(4,28,28,3).astype('float32')*100\n",
    "\n",
    "preds = model.predict(batch)\n",
    "\n",
    "print(batch[0,:,0,0])\n",
    "print(preds[0,:,0,0])"
   ]
  },
  {
   "cell_type": "markdown",
   "metadata": {},
   "source": [
    "### Conv2DWeightNorm"
   ]
  },
  {
   "cell_type": "code",
   "execution_count": null,
   "metadata": {},
   "outputs": [],
   "source": [
    "# TODO\n",
    "\n",
    "from layers import Conv2DWeightNorm\n",
    "\n",
    "x = x_in = Input(shape=(28, 28, 3))\n",
    "x1 = Conv2D(10, 3)(x)\n",
    "x2 = Conv2DWeightNorm(10, 3)(x)\n",
    "model = Model([x_in], [x1, x2])\n",
    "\n",
    "batch = np.random.rand(4,28,28,3).astype('float32')*100\n",
    "preds = model.predict(batch)\n",
    "\n",
    "print(model.input_shape)\n",
    "print(model.output_shape)\n",
    "\n",
    "batch = np.random.rand(4,28,28,3).astype('float32')*100\n",
    "\n",
    "preds = model.predict(batch)\n",
    "\n",
    "print(batch[0,:,0,0])\n",
    "print(preds[0][0,:,0,0])\n",
    "print(preds[1][0,:,0,0])"
   ]
  },
  {
   "cell_type": "markdown",
   "metadata": {},
   "source": [
    "### Resize2DBilinear and Resize2DNearest"
   ]
  },
  {
   "cell_type": "code",
   "execution_count": null,
   "metadata": {},
   "outputs": [],
   "source": [
    "from layers import Resize2DBilinear, Resize2DNearest\n",
    "\n",
    "s = 12\n",
    "s1 = (s//2, s//2)\n",
    "s2 = (s*2, s*2)\n",
    "\n",
    "x = x_in = Input(shape=(s, s, 1))\n",
    "x1 = Resize2DBilinear(s1)(x)\n",
    "x2 = Resize2DBilinear(s2)(x)\n",
    "x3 = Resize2DNearest(s1)(x)\n",
    "x4 = Resize2DNearest(s2)(x)\n",
    "model = Model(x_in, [x1,x2,x3,x4])\n",
    "\n",
    "print(model.input_shape)\n",
    "print(model.output_shape)\n",
    "\n",
    "batch = np.random.rand(4,s,s,1).astype('float32')\n",
    "\n",
    "preds = model.predict(batch)\n",
    "\n",
    "plt.figure(figsize=(16,4))\n",
    "plt.subplot(151); plt.title('input')\n",
    "plt.imshow(batch[0,:,:,0])\n",
    "plt.subplot(152); plt.title('bilinear 0.5')\n",
    "plt.imshow(preds[0][0,:,:,0])\n",
    "plt.subplot(153); plt.title('bilinear 2.0')\n",
    "plt.imshow(preds[1][0,:,:,0])\n",
    "plt.subplot(154); plt.title('nearest 0.5')\n",
    "plt.imshow(preds[2][0,:,:,0])\n",
    "plt.subplot(155); plt.title('nearest 2.0')\n",
    "plt.imshow(preds[3][0,:,:,0])\n",
    "plt.show()"
   ]
  },
  {
   "cell_type": "code",
   "execution_count": null,
   "metadata": {},
   "outputs": [],
   "source": []
  },
  {
   "cell_type": "code",
   "execution_count": null,
   "metadata": {},
   "outputs": [],
   "source": []
  }
 ],
 "metadata": {
  "kernelspec": {
   "display_name": "Python 3",
   "language": "python",
   "name": "python3"
  },
  "language_info": {
   "codemirror_mode": {
    "name": "ipython",
    "version": 3
   },
   "file_extension": ".py",
   "mimetype": "text/x-python",
   "name": "python",
   "nbconvert_exporter": "python",
   "pygments_lexer": "ipython3",
   "version": "3.7.5"
  },
  "toc": {
   "base_numbering": 1,
   "nav_menu": {},
   "number_sections": true,
   "sideBar": true,
   "skip_h1_title": false,
   "title_cell": "Table of Contents",
   "title_sidebar": "Contents",
   "toc_cell": false,
   "toc_position": {},
   "toc_section_display": true,
   "toc_window_display": false
  }
 },
 "nbformat": 4,
 "nbformat_minor": 2
}
