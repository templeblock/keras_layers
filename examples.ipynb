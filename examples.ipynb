{
 "cells": [
  {
   "cell_type": "code",
   "execution_count": null,
   "metadata": {},
   "outputs": [],
   "source": [
    "import numpy as np\n",
    "import tensorflow as tf\n",
    "import tensorflow.contrib.eager as tfe\n",
    "import os\n",
    "\n",
    "os.environ[\"CUDA_VISIBLE_DEVICES\"] = '-1'\n",
    "#tfe.enable_eager_execution()\n",
    "\n",
    "from tensorflow.keras.layers import Input, Conv2D\n",
    "from tensorflow.keras.models import Model\n",
    "\n",
    "batch = np.random.rand(4,28,28,3).astype('float32')"
   ]
  },
  {
   "cell_type": "code",
   "execution_count": null,
   "metadata": {},
   "outputs": [],
   "source": []
  },
  {
   "cell_type": "code",
   "execution_count": null,
   "metadata": {},
   "outputs": [],
   "source": []
  },
  {
   "cell_type": "code",
   "execution_count": null,
   "metadata": {},
   "outputs": [],
   "source": [
    "from layers import SparseConv2D"
   ]
  },
  {
   "cell_type": "code",
   "execution_count": null,
   "metadata": {},
   "outputs": [],
   "source": []
  },
  {
   "cell_type": "code",
   "execution_count": null,
   "metadata": {},
   "outputs": [],
   "source": []
  },
  {
   "cell_type": "markdown",
   "metadata": {},
   "source": [
    "### MaxPoolingWithArgmax2D, MaxUnpooling2D"
   ]
  },
  {
   "cell_type": "code",
   "execution_count": null,
   "metadata": {},
   "outputs": [],
   "source": [
    "from layers import MaxPoolingWithArgmax2D, MaxUnpooling2D\n",
    "# does not work without eager, does not work wit CPU\n",
    "\n",
    "batch = np.random.rand(4,256,256,10).astype('float32')\n",
    "\n",
    "size = 2\n",
    "x = Input(shape=(256, 256, 10))\n",
    "input_tensor = x\n",
    "x, m = MaxPoolingWithArgmax2D(pool_size=size)(x)\n",
    "xt = x\n",
    "x = MaxUnpooling2D(size=size)([x,m])\n",
    "model = Model(input_tensor, [x,m,xt])"
   ]
  },
  {
   "cell_type": "code",
   "execution_count": null,
   "metadata": {},
   "outputs": [],
   "source": [
    "print(model.input_shape) \n",
    "print(model.output_shape)\n",
    "preds = model.predict(batch)\n",
    "\n",
    "for i in range(3):\n",
    "    print()\n",
    "    print(batch[1][:size,:size,i])\n",
    "    print(np.max(batch[0][:size,:size,i]))\n",
    "    print(preds[2][0][:size,:size,i])\n",
    "    print(preds[1][0][:size,:size,i])\n",
    "    \n",
    "#print(preds[0][0,:,0,:])"
   ]
  },
  {
   "cell_type": "code",
   "execution_count": null,
   "metadata": {
    "scrolled": true
   },
   "outputs": [],
   "source": []
  },
  {
   "cell_type": "markdown",
   "metadata": {},
   "source": [
    "### AddCoord2D"
   ]
  },
  {
   "cell_type": "code",
   "execution_count": null,
   "metadata": {},
   "outputs": [],
   "source": [
    "from layers import AddCoords2D\n",
    "\n",
    "input_tensor = x = Input(shape=(28, 28, 3))\n",
    "x = AddCoords2D()(x)\n",
    "model = Model(input_tensor, x)\n",
    "\n",
    "print(model.input_shape)\n",
    "print(model.output_shape)\n",
    "preds = model.predict(batch)\n",
    "print(preds[0][0,:,:])"
   ]
  },
  {
   "cell_type": "code",
   "execution_count": null,
   "metadata": {},
   "outputs": [],
   "source": []
  },
  {
   "cell_type": "markdown",
   "metadata": {},
   "source": [
    "### DepthwiseConv2D"
   ]
  },
  {
   "cell_type": "code",
   "execution_count": null,
   "metadata": {},
   "outputs": [],
   "source": [
    "from layers import DepthwiseConv2D\n",
    "\n",
    "cm = 2 # channel_multiplier\n",
    "\n",
    "input_tensor = x = Input(shape=(28, 28, 3))\n",
    "x = Conv2D(16, (3,3), padding='same')(x)\n",
    "x = DepthwiseConv2D(cm, (3,3), padding='same')(x)\n",
    "x = Conv2D(16*cm, (1,1), padding='same')(x)\n",
    "\n",
    "model = Model(input_tensor, x)\n",
    "\n",
    "print(model.input_shape)\n",
    "print(model.output_shape)\n",
    "preds = model.predict(batch)\n",
    "print(preds[0][0,:,:])"
   ]
  },
  {
   "cell_type": "code",
   "execution_count": null,
   "metadata": {},
   "outputs": [],
   "source": []
  },
  {
   "cell_type": "code",
   "execution_count": null,
   "metadata": {},
   "outputs": [],
   "source": []
  }
 ],
 "metadata": {
  "kernelspec": {
   "display_name": "Python 3",
   "language": "python",
   "name": "python3"
  },
  "language_info": {
   "codemirror_mode": {
    "name": "ipython",
    "version": 3
   },
   "file_extension": ".py",
   "mimetype": "text/x-python",
   "name": "python",
   "nbconvert_exporter": "python",
   "pygments_lexer": "ipython3",
   "version": "3.5.2"
  },
  "toc": {
   "base_numbering": 1,
   "nav_menu": {},
   "number_sections": true,
   "sideBar": true,
   "skip_h1_title": false,
   "title_cell": "Table of Contents",
   "title_sidebar": "Contents",
   "toc_cell": false,
   "toc_position": {},
   "toc_section_display": true,
   "toc_window_display": false
  }
 },
 "nbformat": 4,
 "nbformat_minor": 2
}
